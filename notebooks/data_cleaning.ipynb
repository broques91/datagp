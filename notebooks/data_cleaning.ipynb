{
 "cells": [
  {
   "cell_type": "markdown",
   "id": "f8c6dd25-de8c-42b6-ae82-15a68d0e03ba",
   "metadata": {},
   "source": [
    "# Data Cleaning"
   ]
  },
  {
   "cell_type": "code",
   "execution_count": 3,
   "id": "8d8a74bc-f90e-4fab-ad36-132418144966",
   "metadata": {},
   "outputs": [],
   "source": [
    "import pandas as pd\n",
    "import numpy as np\n",
    "import os\n",
    "import re"
   ]
  },
  {
   "cell_type": "markdown",
   "id": "f41e15a4-d4d1-4508-8baa-7484d64c0f6c",
   "metadata": {},
   "source": [
    "## Délinquance"
   ]
  },
  {
   "cell_type": "code",
   "execution_count": 46,
   "id": "0b8b422b-9921-4ab8-8810-186dc01b5cd0",
   "metadata": {},
   "outputs": [],
   "source": [
    "df = pd.read_csv('../data/delinquance.csv', index_col=0)"
   ]
  },
  {
   "cell_type": "code",
   "execution_count": 47,
   "id": "f1d0d2d2-f194-48c0-8404-c151db86db79",
   "metadata": {},
   "outputs": [
    {
     "data": {
      "text/html": [
       "<div>\n",
       "<style scoped>\n",
       "    .dataframe tbody tr th:only-of-type {\n",
       "        vertical-align: middle;\n",
       "    }\n",
       "\n",
       "    .dataframe tbody tr th {\n",
       "        vertical-align: top;\n",
       "    }\n",
       "\n",
       "    .dataframe thead th {\n",
       "        text-align: right;\n",
       "    }\n",
       "</style>\n",
       "<table border=\"1\" class=\"dataframe\">\n",
       "  <thead>\n",
       "    <tr style=\"text-align: right;\">\n",
       "      <th></th>\n",
       "      <th>ville</th>\n",
       "      <th>lien</th>\n",
       "      <th>Violences aux personnes</th>\n",
       "      <th>Vols et dégradations</th>\n",
       "      <th>Délinquance économique et financière</th>\n",
       "      <th>Autres crimes et délits</th>\n",
       "      <th>Violences gratuites</th>\n",
       "      <th>Violences crapuleuses</th>\n",
       "      <th>Violences sexuelles</th>\n",
       "      <th>Menaces de violence</th>\n",
       "      <th>...</th>\n",
       "      <th>Différends familiaux</th>\n",
       "      <th>Proxénétisme</th>\n",
       "      <th>Ports ou détentions d'arme prohibée</th>\n",
       "      <th>Recels</th>\n",
       "      <th>Délits des courses et jeux d'argent</th>\n",
       "      <th>Délits liés aux débits de boisson et de tabac</th>\n",
       "      <th>Atteintes à l'environnement</th>\n",
       "      <th>Délits liés à la chasse et la pêche</th>\n",
       "      <th>Cruauté et délits envers les animaux</th>\n",
       "      <th>Atteintes aux intérêts fondamentaux de la Nation</th>\n",
       "    </tr>\n",
       "  </thead>\n",
       "  <tbody>\n",
       "    <tr>\n",
       "      <th>0</th>\n",
       "      <td>Aast(64460)</td>\n",
       "      <td>/management/ville/aast/ville-64001</td>\n",
       "      <td>343.0</td>\n",
       "      <td>1480.0</td>\n",
       "      <td>9.0</td>\n",
       "      <td>174.0</td>\n",
       "      <td>184.0</td>\n",
       "      <td>14.0</td>\n",
       "      <td>35.0</td>\n",
       "      <td>64.0</td>\n",
       "      <td>...</td>\n",
       "      <td>54.0</td>\n",
       "      <td>0.0</td>\n",
       "      <td>14.0</td>\n",
       "      <td>17.0</td>\n",
       "      <td>0.0</td>\n",
       "      <td>1.0</td>\n",
       "      <td>1.0</td>\n",
       "      <td>0.0</td>\n",
       "      <td>5.0</td>\n",
       "      <td>3.0</td>\n",
       "    </tr>\n",
       "    <tr>\n",
       "      <th>1</th>\n",
       "      <td>NaN</td>\n",
       "      <td>NaN</td>\n",
       "      <td>178.0</td>\n",
       "      <td>563.0</td>\n",
       "      <td>6.0</td>\n",
       "      <td>75.0</td>\n",
       "      <td>81.0</td>\n",
       "      <td>3.0</td>\n",
       "      <td>23.0</td>\n",
       "      <td>38.0</td>\n",
       "      <td>...</td>\n",
       "      <td>26.0</td>\n",
       "      <td>0.0</td>\n",
       "      <td>3.0</td>\n",
       "      <td>11.0</td>\n",
       "      <td>0.0</td>\n",
       "      <td>0.0</td>\n",
       "      <td>0.0</td>\n",
       "      <td>0.0</td>\n",
       "      <td>2.0</td>\n",
       "      <td>1.0</td>\n",
       "    </tr>\n",
       "    <tr>\n",
       "      <th>2</th>\n",
       "      <td>Arces(17120)</td>\n",
       "      <td>/management/ville/arces/ville-17015</td>\n",
       "      <td>393.0</td>\n",
       "      <td>1839.0</td>\n",
       "      <td>25.0</td>\n",
       "      <td>226.0</td>\n",
       "      <td>201.0</td>\n",
       "      <td>22.0</td>\n",
       "      <td>48.0</td>\n",
       "      <td>79.0</td>\n",
       "      <td>...</td>\n",
       "      <td>88.0</td>\n",
       "      <td>0.0</td>\n",
       "      <td>14.0</td>\n",
       "      <td>25.0</td>\n",
       "      <td>0.0</td>\n",
       "      <td>1.0</td>\n",
       "      <td>4.0</td>\n",
       "      <td>1.0</td>\n",
       "      <td>9.0</td>\n",
       "      <td>0.0</td>\n",
       "    </tr>\n",
       "    <tr>\n",
       "      <th>3</th>\n",
       "      <td>Arue(40120)</td>\n",
       "      <td>/management/ville/arue/ville-40014</td>\n",
       "      <td>220.0</td>\n",
       "      <td>1089.0</td>\n",
       "      <td>5.0</td>\n",
       "      <td>170.0</td>\n",
       "      <td>111.0</td>\n",
       "      <td>9.0</td>\n",
       "      <td>26.0</td>\n",
       "      <td>40.0</td>\n",
       "      <td>...</td>\n",
       "      <td>42.0</td>\n",
       "      <td>0.0</td>\n",
       "      <td>10.0</td>\n",
       "      <td>18.0</td>\n",
       "      <td>0.0</td>\n",
       "      <td>0.0</td>\n",
       "      <td>2.0</td>\n",
       "      <td>7.0</td>\n",
       "      <td>3.0</td>\n",
       "      <td>1.0</td>\n",
       "    </tr>\n",
       "    <tr>\n",
       "      <th>4</th>\n",
       "      <td>Aujols(46090)</td>\n",
       "      <td>/management/ville/aujols/ville-46010</td>\n",
       "      <td>154.0</td>\n",
       "      <td>845.0</td>\n",
       "      <td>9.0</td>\n",
       "      <td>134.0</td>\n",
       "      <td>78.0</td>\n",
       "      <td>8.0</td>\n",
       "      <td>21.0</td>\n",
       "      <td>30.0</td>\n",
       "      <td>...</td>\n",
       "      <td>37.0</td>\n",
       "      <td>0.0</td>\n",
       "      <td>7.0</td>\n",
       "      <td>4.0</td>\n",
       "      <td>0.0</td>\n",
       "      <td>0.0</td>\n",
       "      <td>5.0</td>\n",
       "      <td>0.0</td>\n",
       "      <td>4.0</td>\n",
       "      <td>1.0</td>\n",
       "    </tr>\n",
       "  </tbody>\n",
       "</table>\n",
       "<p>5 rows × 33 columns</p>\n",
       "</div>"
      ],
      "text/plain": [
       "           ville                                  lien  \\\n",
       "0    Aast(64460)    /management/ville/aast/ville-64001   \n",
       "1            NaN                                   NaN   \n",
       "2   Arces(17120)   /management/ville/arces/ville-17015   \n",
       "3    Arue(40120)    /management/ville/arue/ville-40014   \n",
       "4  Aujols(46090)  /management/ville/aujols/ville-46010   \n",
       "\n",
       "   Violences aux personnes  Vols et dégradations  \\\n",
       "0                    343.0                1480.0   \n",
       "1                    178.0                 563.0   \n",
       "2                    393.0                1839.0   \n",
       "3                    220.0                1089.0   \n",
       "4                    154.0                 845.0   \n",
       "\n",
       "   Délinquance économique et financière  Autres crimes et délits  \\\n",
       "0                                   9.0                    174.0   \n",
       "1                                   6.0                     75.0   \n",
       "2                                  25.0                    226.0   \n",
       "3                                   5.0                    170.0   \n",
       "4                                   9.0                    134.0   \n",
       "\n",
       "   Violences gratuites  Violences crapuleuses  Violences sexuelles  \\\n",
       "0                184.0                   14.0                 35.0   \n",
       "1                 81.0                    3.0                 23.0   \n",
       "2                201.0                   22.0                 48.0   \n",
       "3                111.0                    9.0                 26.0   \n",
       "4                 78.0                    8.0                 21.0   \n",
       "\n",
       "   Menaces de violence  ...  Différends familiaux  Proxénétisme  \\\n",
       "0                 64.0  ...                  54.0           0.0   \n",
       "1                 38.0  ...                  26.0           0.0   \n",
       "2                 79.0  ...                  88.0           0.0   \n",
       "3                 40.0  ...                  42.0           0.0   \n",
       "4                 30.0  ...                  37.0           0.0   \n",
       "\n",
       "   Ports ou détentions d'arme prohibée  Recels  \\\n",
       "0                                 14.0    17.0   \n",
       "1                                  3.0    11.0   \n",
       "2                                 14.0    25.0   \n",
       "3                                 10.0    18.0   \n",
       "4                                  7.0     4.0   \n",
       "\n",
       "   Délits des courses et jeux d'argent  \\\n",
       "0                                  0.0   \n",
       "1                                  0.0   \n",
       "2                                  0.0   \n",
       "3                                  0.0   \n",
       "4                                  0.0   \n",
       "\n",
       "   Délits liés aux débits de boisson et de tabac  Atteintes à l'environnement  \\\n",
       "0                                            1.0                          1.0   \n",
       "1                                            0.0                          0.0   \n",
       "2                                            1.0                          4.0   \n",
       "3                                            0.0                          2.0   \n",
       "4                                            0.0                          5.0   \n",
       "\n",
       "   Délits liés à la chasse et la pêche  Cruauté et délits envers les animaux  \\\n",
       "0                                  0.0                                   5.0   \n",
       "1                                  0.0                                   2.0   \n",
       "2                                  1.0                                   9.0   \n",
       "3                                  7.0                                   3.0   \n",
       "4                                  0.0                                   4.0   \n",
       "\n",
       "   Atteintes aux intérêts fondamentaux de la Nation  \n",
       "0                                               3.0  \n",
       "1                                               1.0  \n",
       "2                                               0.0  \n",
       "3                                               1.0  \n",
       "4                                               1.0  \n",
       "\n",
       "[5 rows x 33 columns]"
      ]
     },
     "execution_count": 47,
     "metadata": {},
     "output_type": "execute_result"
    }
   ],
   "source": [
    "df.head()"
   ]
  },
  {
   "cell_type": "code",
   "execution_count": 48,
   "id": "ab548311-bc5f-4f6b-8411-f8947dab1ad3",
   "metadata": {},
   "outputs": [
    {
     "data": {
      "text/plain": [
       "ville                                                object\n",
       "lien                                                 object\n",
       "Violences aux personnes                             float64\n",
       "Vols et dégradations                                float64\n",
       "Délinquance économique et financière                float64\n",
       "Autres crimes et délits                             float64\n",
       "Violences gratuites                                 float64\n",
       "Violences crapuleuses                               float64\n",
       "Violences sexuelles                                 float64\n",
       "Menaces de violence                                 float64\n",
       "Atteintes à la dignité                              float64\n",
       "Cambriolages                                        float64\n",
       "Vols à main armée (arme à feu)                      float64\n",
       "Vols avec entrée par ruse                           float64\n",
       "Vols liés à l'automobile                            float64\n",
       "Vols de particuliers                                float64\n",
       "Vols d'entreprises                                  float64\n",
       "Violation de domicile                               float64\n",
       "Destruction et dégradations de biens                float64\n",
       "Escroqueries, faux et contrefaçons                  float64\n",
       "Trafic, revente et usage de drogues                 float64\n",
       "Infractions au code du Travail                      float64\n",
       "Infractions liées à l'immigration                   float64\n",
       "Différends familiaux                                float64\n",
       "Proxénétisme                                        float64\n",
       "Ports ou détentions d'arme prohibée                 float64\n",
       "Recels                                              float64\n",
       "Délits des courses et jeux d'argent                 float64\n",
       "Délits liés aux débits de boisson et de tabac       float64\n",
       "Atteintes à l'environnement                         float64\n",
       "Délits liés à la chasse et la pêche                 float64\n",
       "Cruauté et délits envers les animaux                float64\n",
       "Atteintes aux intérêts fondamentaux de la Nation    float64\n",
       "dtype: object"
      ]
     },
     "execution_count": 48,
     "metadata": {},
     "output_type": "execute_result"
    }
   ],
   "source": [
    "df.dtypes"
   ]
  },
  {
   "cell_type": "code",
   "execution_count": 52,
   "id": "a1bab750-8152-47c7-90c5-fd6648029652",
   "metadata": {},
   "outputs": [],
   "source": [
    "# Replace nc to NaN \n",
    "for col in list(df.columns):\n",
    "    if col != 'ville' and col != 'lien':\n",
    "        df.loc[df[col].astype('str').str.contains('nc', na=False), col] = np.nan"
   ]
  },
  {
   "cell_type": "code",
   "execution_count": null,
   "id": "31bf09b3-81ea-4e23-9f8a-12a879130f4f",
   "metadata": {},
   "outputs": [],
   "source": [
    "# Remove space between number\n",
    "for col in list(df.columns):\n",
    "    if col != 'ville' and col != 'lien':\n",
    "        df[col] = df[col].astype(str).str.replace('\\s','')"
   ]
  },
  {
   "cell_type": "code",
   "execution_count": 53,
   "id": "767ad307-5126-4c65-bd50-06ed0c5ff037",
   "metadata": {},
   "outputs": [],
   "source": [
    "# Convert dtype to float\n",
    "for col in list(df.columns):\n",
    "    if col != 'ville' and col != 'lien':\n",
    "        df[col] = df[col].astype('float')"
   ]
  },
  {
   "cell_type": "code",
   "execution_count": null,
   "id": "7b5c8276-f4fe-47ed-a8e9-dcc0fef86ed1",
   "metadata": {},
   "outputs": [],
   "source": [
    "df.to_csv('../data/delinquance.csv')"
   ]
  },
  {
   "cell_type": "markdown",
   "id": "8df13ba4-8ed2-4fd0-a3c5-8293f607e2d9",
   "metadata": {},
   "source": [
    "## Cleaning All"
   ]
  },
  {
   "cell_type": "markdown",
   "id": "fa96bae5-3e04-4c9a-ac39-26cc5bf5e18c",
   "metadata": {},
   "source": [
    "Load Data"
   ]
  },
  {
   "cell_type": "code",
   "execution_count": 2,
   "id": "909b273a-bf9e-4284-b14c-4ee7918ef4ad",
   "metadata": {},
   "outputs": [],
   "source": [
    "DATA_DIR = '../data/'\n",
    "data_files = os.listdir(DATA_DIR)\n",
    "dataframes = list(data_files)"
   ]
  },
  {
   "cell_type": "code",
   "execution_count": 3,
   "id": "5a3aa5fd-52d7-4698-8b3f-dead26682743",
   "metadata": {},
   "outputs": [
    {
     "data": {
      "text/plain": [
       "['csp.csv',\n",
       " '.DS_Store',\n",
       " 'delinquance.csv',\n",
       " 'sante_social.csv',\n",
       " 'infos.csv',\n",
       " 'immobilier.csv',\n",
       " 'automobile.csv',\n",
       " 'emploi.csv',\n",
       " 'salaires.csv',\n",
       " '.ipynb_checkpoints',\n",
       " 'liens_villes.csv',\n",
       " 'demographie.csv',\n",
       " 'entreprises.csv']"
      ]
     },
     "execution_count": 3,
     "metadata": {},
     "output_type": "execute_result"
    }
   ],
   "source": [
    "dataframes"
   ]
  },
  {
   "cell_type": "markdown",
   "id": "a9cce3ff-3cdc-400e-a7f1-7681153e89bf",
   "metadata": {},
   "source": [
    "Ignore Files"
   ]
  },
  {
   "cell_type": "code",
   "execution_count": 78,
   "id": "058a1c58-e911-44ed-b532-5b9d5dac5488",
   "metadata": {},
   "outputs": [],
   "source": [
    "dataframes.remove('.DS_Store')\n",
    "dataframes.remove('.ipynb_checkpoints')\n",
    "dataframes.remove('liens_villes.csv')\n",
    "dataframes.remove('infos.csv')"
   ]
  },
  {
   "cell_type": "code",
   "execution_count": 1,
   "id": "52f79e70-322f-42f3-b862-448d36acb5c4",
   "metadata": {},
   "outputs": [],
   "source": [
    "def clean_df(file):\n",
    "    df = pd.read_csv(f'../data/{file}', index_col=0)\n",
    "    cols = list(df.columns)\n",
    "\n",
    "    for col in cols:\n",
    "        if col != 'ville' and col != 'lien' and col:\n",
    "            # Replace nc to NaN \n",
    "            df.loc[df[col].astype('str').str.contains('nc', na=False), col] = np.nan\n",
    "            # Remove space between number \n",
    "            df[col] = df[col].astype(str).str.replace('\\s','')\n",
    "            try:\n",
    "                # Convert dtype to float\n",
    "                df[col] = df[col].astype('float')\n",
    "            except:\n",
    "                pass\n",
    "\n",
    "    # Remove Unnamed cols\n",
    "    df = df.loc[:, ~df.columns.str.contains('^Unnamed')]\n",
    "    # Save cleaned data\n",
    "    df.to_csv(f'../data/{file}')"
   ]
  },
  {
   "cell_type": "code",
   "execution_count": 6,
   "id": "ae09158f-d70a-4d2b-96ab-1d111ab536d5",
   "metadata": {},
   "outputs": [],
   "source": [
    "def start_cleaning(files):\n",
    "    \n",
    "    for file in files:\n",
    "        if file not in ['.DS_Store','.ipynb_checkpoints','liens_villes.csv','infos.csv']\n",
    "        print(file)\n",
    "        df = pd.read_csv(f'../data/{file}', index_col=0)\n",
    "        df = df.rename(columns={'Ville': 'ville', 'Lien': 'lien'})\n",
    "        cols = list(df.columns)\n",
    "        \n",
    "        for col in cols:\n",
    "            if col != 'ville' and col != 'lien' and col:\n",
    "                # Replace nc to NaN \n",
    "                df.loc[df[col].astype('str').str.contains('nc', na=False), col] = np.nan\n",
    "                # Remove space between number \n",
    "                df[col] = df[col].astype(str).str.replace('\\s','')\n",
    "                try:\n",
    "                    # Convert dtype to float\n",
    "                    df[col] = df[col].astype('float')\n",
    "                except:\n",
    "                    pass\n",
    "        \n",
    "        # Remove Unnamed cols\n",
    "        df = df.loc[:, ~df.columns.str.contains('^Unnamed')]\n",
    "        # Save cleaned data\n",
    "        df.to_csv(f'../data/{file}')"
   ]
  },
  {
   "cell_type": "code",
   "execution_count": 2,
   "id": "abbefa90-c8da-45cb-843e-761ecaa3adfa",
   "metadata": {},
   "outputs": [
    {
     "ename": "NameError",
     "evalue": "name 'pd' is not defined",
     "output_type": "error",
     "traceback": [
      "\u001b[0;31m---------------------------------------------------------------------------\u001b[0m",
      "\u001b[0;31mNameError\u001b[0m                                 Traceback (most recent call last)",
      "\u001b[0;32m<ipython-input-2-88d4b1cef801>\u001b[0m in \u001b[0;36m<module>\u001b[0;34m\u001b[0m\n\u001b[0;32m----> 1\u001b[0;31m \u001b[0mclean_df\u001b[0m\u001b[0;34m(\u001b[0m\u001b[0;34m'sante_social.csv'\u001b[0m\u001b[0;34m)\u001b[0m\u001b[0;34m\u001b[0m\u001b[0;34m\u001b[0m\u001b[0m\n\u001b[0m",
      "\u001b[0;32m<ipython-input-1-8265e6de9f4b>\u001b[0m in \u001b[0;36mclean_df\u001b[0;34m(file)\u001b[0m\n\u001b[1;32m      1\u001b[0m \u001b[0;32mdef\u001b[0m \u001b[0mclean_df\u001b[0m\u001b[0;34m(\u001b[0m\u001b[0mfile\u001b[0m\u001b[0;34m)\u001b[0m\u001b[0;34m:\u001b[0m\u001b[0;34m\u001b[0m\u001b[0;34m\u001b[0m\u001b[0m\n\u001b[0;32m----> 2\u001b[0;31m     \u001b[0mdf\u001b[0m \u001b[0;34m=\u001b[0m \u001b[0mpd\u001b[0m\u001b[0;34m.\u001b[0m\u001b[0mread_csv\u001b[0m\u001b[0;34m(\u001b[0m\u001b[0;34mf'../data/{file}'\u001b[0m\u001b[0;34m,\u001b[0m \u001b[0mindex_col\u001b[0m\u001b[0;34m=\u001b[0m\u001b[0;36m0\u001b[0m\u001b[0;34m)\u001b[0m\u001b[0;34m\u001b[0m\u001b[0;34m\u001b[0m\u001b[0m\n\u001b[0m\u001b[1;32m      3\u001b[0m     \u001b[0mcols\u001b[0m \u001b[0;34m=\u001b[0m \u001b[0mlist\u001b[0m\u001b[0;34m(\u001b[0m\u001b[0mdf\u001b[0m\u001b[0;34m.\u001b[0m\u001b[0mcolumns\u001b[0m\u001b[0;34m)\u001b[0m\u001b[0;34m\u001b[0m\u001b[0;34m\u001b[0m\u001b[0m\n\u001b[1;32m      4\u001b[0m \u001b[0;34m\u001b[0m\u001b[0m\n\u001b[1;32m      5\u001b[0m     \u001b[0;32mfor\u001b[0m \u001b[0mcol\u001b[0m \u001b[0;32min\u001b[0m \u001b[0mcols\u001b[0m\u001b[0;34m:\u001b[0m\u001b[0;34m\u001b[0m\u001b[0;34m\u001b[0m\u001b[0m\n",
      "\u001b[0;31mNameError\u001b[0m: name 'pd' is not defined"
     ]
    }
   ],
   "source": [
    "clean_df('sante_social.csv')"
   ]
  },
  {
   "cell_type": "code",
   "execution_count": null,
   "id": "b89dbf06-08f8-472e-bc08-945e13fe1e91",
   "metadata": {},
   "outputs": [],
   "source": []
  }
 ],
 "metadata": {
  "kernelspec": {
   "display_name": "Python 3",
   "language": "python",
   "name": "python3"
  },
  "language_info": {
   "codemirror_mode": {
    "name": "ipython",
    "version": 3
   },
   "file_extension": ".py",
   "mimetype": "text/x-python",
   "name": "python",
   "nbconvert_exporter": "python",
   "pygments_lexer": "ipython3",
   "version": "3.9.5"
  }
 },
 "nbformat": 4,
 "nbformat_minor": 5
}
